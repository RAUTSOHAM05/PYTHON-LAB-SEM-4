{
  "metadata": {
    "kernelspec": {
      "name": "python",
      "display_name": "Python (Pyodide)",
      "language": "python"
    },
    "language_info": {
      "codemirror_mode": {
        "name": "python",
        "version": 3
      },
      "file_extension": ".py",
      "mimetype": "text/x-python",
      "name": "python",
      "nbconvert_exporter": "python",
      "pygments_lexer": "ipython3",
      "version": "3.8"
    }
  },
  "nbformat_minor": 5,
  "nbformat": 4,
  "cells": [
    {
      "id": "c0dbdbef-cd01-411b-844e-91fe9c640576",
      "cell_type": "code",
      "source": "#Strings in python \na = 'This is first String'\nprint(a)\nb = \"This is Second String\"\nprint(b)\nc='''This is Third String'''\nprint(c)",
      "metadata": {
        "trusted": true
      },
      "outputs": [
        {
          "name": "stdout",
          "output_type": "stream",
          "text": "This is first String\nThis is Second String\nThis is Third String\n"
        }
      ],
      "execution_count": 2
    },
    {
      "id": "de8293e1-4a1a-4e75-b674-722b7b8f05c3",
      "cell_type": "code",
      "source": "# lists in python\nL = [1, \"a\" , \"string\" , 1+2]\nprint (L)\n#Adding an element in the list\nL.append(6) \nprint (L)\n#Deleting last element from a list\nL.pop()\nprint (L)\n#Displaying Second element of the list\nprint (L[1]) ",
      "metadata": {
        "trusted": true
      },
      "outputs": [
        {
          "name": "stdout",
          "output_type": "stream",
          "text": "[1, 'a', 'string', 3]\n[1, 'a', 'string', 3, 6]\n[1, 'a', 'string', 3]\na\n"
        }
      ],
      "execution_count": 3
    },
    {
      "id": "8d9e2ea2-923c-403f-ba5e-8dc229b9aa3a",
      "cell_type": "code",
      "source": "my_dict = {'a': 1, 'b': 2, 'c': 3}\n\n# Deleting an item with the key 'b' and returning its value\nremoved_value = my_dict.pop('b')\n\nprint(my_dict)       # Output: {'a': 1, 'c': 3}\nprint(removed_value) # Output: 2",
      "metadata": {
        "trusted": true
      },
      "outputs": [
        {
          "name": "stdout",
          "output_type": "stream",
          "text": "{'a': 1, 'c': 3}\n2\n"
        }
      ],
      "execution_count": 4
    },
    {
      "id": "ed49a4c3-1a9d-41d7-b03a-851c84c46c0f",
      "cell_type": "code",
      "source": "# Tuples in Python\ntup = (1, \"a\", \"string\", 1+2)\nprint(tup)\nprint(tup[1])",
      "metadata": {
        "trusted": true
      },
      "outputs": [
        {
          "name": "stdout",
          "output_type": "stream",
          "text": "(1, 'a', 'string', 3)\na\n"
        }
      ],
      "execution_count": 5
    },
    {
      "id": "deb6a048-8290-4e50-8fd9-d2f7a1ccec94",
      "cell_type": "code",
      "source": "# Dictionaries in python \nd = {1: 'Lorem', 2: 'Ipsum', 3: 'Dolerum'}\nprint(d)",
      "metadata": {
        "trusted": true
      },
      "outputs": [
        {
          "name": "stdout",
          "output_type": "stream",
          "text": "{1: 'Lorem', 2: 'Ipsum', 3: 'Dolerum'}\n"
        }
      ],
      "execution_count": 6
    },
    {
      "id": "2f268b10-8ff3-4924-9c5d-7df4cc451e94",
      "cell_type": "code",
      "source": "# create dictionary using { }\nd1 = {1: 'Game', 2: 'of', 3: 'Thrones'}\nprint(d1)\n\n# create dictionary using dict() constructor\nd2 = dict(a = \"House\", b = \"of\", c = \"Cards\")\nprint(d2)",
      "metadata": {
        "trusted": true
      },
      "outputs": [
        {
          "name": "stdout",
          "output_type": "stream",
          "text": "{1: 'Game', 2: 'of', 3: 'Thrones'}\n{'a': 'House', 'b': 'of', 'c': 'Cards'}\n"
        }
      ],
      "execution_count": 7
    },
    {
      "id": "646fe874-b9ec-43ef-b3db-bf8a01208483",
      "cell_type": "code",
      "source": "# accessing dictionary items \nd = { \"name\": \"Soham\", 1: \"Python\", (1, 2): [1,2,4] }\n\n# Access using key\nprint(d[\"name\"])\n\n# Access using get()\nprint(d.get(\"name\"))",
      "metadata": {
        "trusted": true
      },
      "outputs": [
        {
          "name": "stdout",
          "output_type": "stream",
          "text": "Soham\nSoham\n"
        }
      ],
      "execution_count": 9
    },
    {
      "id": "02eb5899-8521-4368-8e0f-d60a9d82a2c1",
      "cell_type": "code",
      "source": "# adding and updatin dictionary items \nd = {1: 'Game', 2: 'of', 3: 'Thrones'}\n\n# Adding a new key-value pair\nd[\"age\"] = 22\n\n# Updating an existing value\nd[1] = \"Python dict\"\n\nprint(d)",
      "metadata": {
        "trusted": true
      },
      "outputs": [
        {
          "name": "stdout",
          "output_type": "stream",
          "text": "{1: 'Python dict', 2: 'of', 3: 'Thrones', 'age': 22}\n"
        }
      ],
      "execution_count": 10
    },
    {
      "id": "a43d9ac4-bee2-491e-a5a2-9be09d905859",
      "cell_type": "code",
      "source": "# deleting dictionary\nd = {1: 'Game', 2: 'of', 3: 'Thrones'}\nprint(d)\ndel d[2]\nprint(d)\ndel d",
      "metadata": {
        "trusted": true
      },
      "outputs": [
        {
          "name": "stdout",
          "output_type": "stream",
          "text": "{1: 'Game', 2: 'of', 3: 'Thrones'}\n{1: 'Game', 3: 'Thrones'}\n"
        }
      ],
      "execution_count": 12
    },
    {
      "id": "43bc74a2-509b-41ef-96fc-e92bf1bc3126",
      "cell_type": "code",
      "source": "",
      "metadata": {
        "trusted": true
      },
      "outputs": [],
      "execution_count": null
    }
  ]
}